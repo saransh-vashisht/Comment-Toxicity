{
 "cells": [
  {
   "cell_type": "code",
   "execution_count": 1,
   "id": "49e3ffdb",
   "metadata": {},
   "outputs": [],
   "source": [
    "#  INSTALL DEPENDENCY AND LIBRARIES\n",
    "# multiple output model\n",
    "import os # os library help us to work with the different file faucets\n",
    "import pandas as pd \n",
    "import tensorflow as tf\n",
    "import numpy as np\n",
    "# tensorflow and tensorflow-gpu  are going to be deep learning models - keras\n",
    "#  will be used to create sequential model\n",
    "#  -pandas will help in reading the tabular data \n",
    "#  matplotlib - helps for some plotting\n",
    "#  sklearn\n",
    "# numpy - numpy is used as np.expand_dims  --> wrap up any of the information inside\n",
    "# the another set of array ---> used when we got one sample in our batch\n",
    "# and we want to pass it through our deep learning models bcz we are expecting multiple examples\n",
    "# in that particular batch so we normally wrap it up inside of that \n"
   ]
  },
  {
   "cell_type": "code",
   "execution_count": 2,
   "id": "b2a0916a",
   "metadata": {},
   "outputs": [],
   "source": [
    "# Bringing our data \n",
    "df = pd.read_csv( # here we use pd.read_csv function to read the csv\n",
    "    os.path.join('jigsaw-toxic-comment-classification-challenge','train.csv', 'train.csv')\n",
    "#     os.path.join ---> gives us the full path to our dataset\n",
    ")"
   ]
  },
  {
   "cell_type": "code",
   "execution_count": 3,
   "id": "5cbee0cb",
   "metadata": {},
   "outputs": [],
   "source": [
    "from tensorflow.keras.layers import TextVectorization\n",
    "# textvectorization is used for tokenization"
   ]
  },
  {
   "cell_type": "code",
   "execution_count": 4,
   "id": "9a4f3dcd",
   "metadata": {},
   "outputs": [],
   "source": [
    "X = df['comment_text']\n",
    "y = df[df.columns[2:]].values\n",
    "# .values convert it into numpy array\n"
   ]
  },
  {
   "cell_type": "code",
   "execution_count": 5,
   "id": "469dd5b3",
   "metadata": {},
   "outputs": [],
   "source": [
    "MAX_FEATURES = 200000 # number of words in the vocab"
   ]
  },
  {
   "cell_type": "code",
   "execution_count": 6,
   "id": "d8e57883",
   "metadata": {},
   "outputs": [],
   "source": [
    "vectorizer = TextVectorization(max_tokens=MAX_FEATURES,\n",
    "                               output_sequence_length=1800,\n",
    "                               output_mode='int')\n",
    "# output_sequence_length ---> maximum length of the sentence in our token \n",
    "# output_mode in the form of integer"
   ]
  },
  {
   "cell_type": "code",
   "execution_count": 7,
   "id": "573bad39",
   "metadata": {},
   "outputs": [],
   "source": [
    "vectorizer.adapt(X.values)\n",
    "# adapt will help us to learn all the words in vocabulary \n",
    "# we use  X.values cuz we need numpy array instead of pandas series\n",
    "# vectorizer.get_vocabulary()  ---> can also be used to get the vocabulary "
   ]
  },
  {
   "cell_type": "code",
   "execution_count": 8,
   "id": "22d5ad7d",
   "metadata": {},
   "outputs": [],
   "source": [
    "vectorized_text = vectorizer(X.values)\n",
    "#  here we will pass all our x values through the vectorizer and we gonna get the vectorized_text data"
   ]
  },
  {
   "cell_type": "code",
   "execution_count": 9,
   "id": "d12e3b8e",
   "metadata": {
    "scrolled": true
   },
   "outputs": [],
   "source": [
    "import tensorflow as tf\n",
    "import gradio as gr"
   ]
  },
  {
   "cell_type": "code",
   "execution_count": 10,
   "id": "edc8bc8c",
   "metadata": {},
   "outputs": [],
   "source": [
    "# model.save('toxicity.h5')"
   ]
  },
  {
   "cell_type": "code",
   "execution_count": 11,
   "id": "938f3c20",
   "metadata": {},
   "outputs": [],
   "source": [
    "model = tf.keras.models.load_model('toxicity.h5')"
   ]
  },
  {
   "cell_type": "code",
   "execution_count": 12,
   "id": "bae54798",
   "metadata": {},
   "outputs": [],
   "source": [
    "def score_comment(comment):\n",
    "    vectorized_comment = vectorizer([comment])\n",
    "    results = model.predict(vectorized_comment)\n",
    "    \n",
    "    text = ''\n",
    "    for idx, col in enumerate(df.columns[2:]):\n",
    "        text += '{}: {}\\n'.format(col, results[0][idx]>0.5)\n",
    "    \n",
    "    return text"
   ]
  },
  {
   "cell_type": "code",
   "execution_count": 13,
   "id": "695f173d",
   "metadata": {},
   "outputs": [
    {
     "name": "stderr",
     "output_type": "stream",
     "text": [
      "C:\\Users\\Saransh\\anaconda3\\lib\\site-packages\\gradio\\inputs.py:26: UserWarning: Usage of gradio.inputs is deprecated, and will not be supported in the future, please import your component from gradio.components\n",
      "  warnings.warn(\n",
      "C:\\Users\\Saransh\\anaconda3\\lib\\site-packages\\gradio\\deprecation.py:40: UserWarning: `optional` parameter is deprecated, and it has no effect\n",
      "  warnings.warn(value)\n",
      "C:\\Users\\Saransh\\anaconda3\\lib\\site-packages\\gradio\\deprecation.py:40: UserWarning: `numeric` parameter is deprecated, and it has no effect\n",
      "  warnings.warn(value)\n",
      "C:\\Users\\Saransh\\anaconda3\\lib\\site-packages\\gradio\\deprecation.py:40: UserWarning: The 'type' parameter has been deprecated. Use the Number component instead.\n",
      "  warnings.warn(value)\n",
      "C:\\Users\\Saransh\\anaconda3\\lib\\site-packages\\gradio\\deprecation.py:40: UserWarning: `capture_session` parameter is deprecated, and it has no effect\n",
      "  warnings.warn(value)\n"
     ]
    }
   ],
   "source": [
    "interface = gr.Interface(fn=score_comment,  capture_session=True,\n",
    "                         inputs=gr.inputs.Textbox(lines=2, placeholder='Comment to score'),\n",
    "                        outputs='text')"
   ]
  },
  {
   "cell_type": "code",
   "execution_count": 14,
   "id": "5e326391",
   "metadata": {},
   "outputs": [
    {
     "name": "stdout",
     "output_type": "stream",
     "text": [
      "Running on local URL:  http://127.0.0.1:7860\n",
      "Running on public URL: https://24457.gradio.app\n",
      "\n",
      "This share link expires in 72 hours. For free permanent hosting, check out Spaces: https://huggingface.co/spaces\n"
     ]
    },
    {
     "data": {
      "text/html": [
       "<div><iframe src=\"https://24457.gradio.app\" width=\"900\" height=\"500\" allow=\"autoplay; camera; microphone;\" frameborder=\"0\" allowfullscreen></iframe></div>"
      ],
      "text/plain": [
       "<IPython.core.display.HTML object>"
      ]
     },
     "metadata": {},
     "output_type": "display_data"
    },
    {
     "data": {
      "text/plain": [
       "(<gradio.routes.App at 0x17d97abeb80>,\n",
       " 'http://127.0.0.1:7860/',\n",
       " 'https://24457.gradio.app')"
      ]
     },
     "execution_count": 14,
     "metadata": {},
     "output_type": "execute_result"
    },
    {
     "name": "stdout",
     "output_type": "stream",
     "text": [
      "1/1 [==============================] - 2s 2s/step\n",
      "1/1 [==============================] - 0s 192ms/step\n",
      "1/1 [==============================] - 0s 190ms/step\n"
     ]
    }
   ],
   "source": [
    "interface.launch(share=True)"
   ]
  },
  {
   "cell_type": "code",
   "execution_count": null,
   "id": "1b7c56f3",
   "metadata": {},
   "outputs": [],
   "source": []
  }
 ],
 "metadata": {
  "kernelspec": {
   "display_name": "Python 3 (ipykernel)",
   "language": "python",
   "name": "python3"
  },
  "language_info": {
   "codemirror_mode": {
    "name": "ipython",
    "version": 3
   },
   "file_extension": ".py",
   "mimetype": "text/x-python",
   "name": "python",
   "nbconvert_exporter": "python",
   "pygments_lexer": "ipython3",
   "version": "3.9.7"
  }
 },
 "nbformat": 4,
 "nbformat_minor": 5
}
